{
 "cells": [
  {
   "cell_type": "code",
   "execution_count": 1,
   "metadata": {},
   "outputs": [],
   "source": [
    "import train_view"
   ]
  },
  {
   "cell_type": "code",
   "execution_count": 2,
   "metadata": {},
   "outputs": [],
   "source": [
    "Viewer=train_view.Viewer()"
   ]
  },
  {
   "cell_type": "code",
   "execution_count": 3,
   "metadata": {},
   "outputs": [],
   "source": [
    "Viewer.add_view_value(name='train_loss',mode='lines')\n",
    "Viewer.add_view_value(name='val_loss',mode='lines')\n",
    "\n"
   ]
  },
  {
   "cell_type": "code",
   "execution_count": 4,
   "metadata": {},
   "outputs": [
    {
     "data": {
      "application/vnd.jupyter.widget-view+json": {
       "model_id": "55667b404707410bbf2992f5b11ea76d",
       "version_major": 2,
       "version_minor": 0
      },
      "text/plain": [
       "FigureWidget({\n",
       "    'data': [{'mode': 'lines', 'name': 'train_loss', 'type': 'scatter', 'uid': '85c746db-6733-4652-9134-17bb0013288a'},\n",
       "             {'mode': 'lines', 'name': 'val_loss', 'type': 'scatter', 'uid': '06c87f26-4861-4741-ac9c-6994cd42331e'}],\n",
       "    'layout': {'template': '...'}\n",
       "})"
      ]
     },
     "metadata": {},
     "output_type": "display_data"
    },
    {
     "name": "stderr",
     "output_type": "stream",
     "text": [
      "  0%|          | 0/30 [00:00<?, ?it/s]"
     ]
    },
    {
     "name": "stderr",
     "output_type": "stream",
     "text": [
      "100%|██████████| 30/30 [00:30<00:00,  1.01s/it]\n"
     ]
    }
   ],
   "source": [
    "import time\n",
    "import numpy as np\n",
    "from tqdm import trange\n",
    "losses=[]\n",
    "losses_2=[]\n",
    "display(Viewer.fig)\n",
    "for i in trange(30):\n",
    "    loss=i*np.random.random()\n",
    "    loss_2=i*np.random.random()\n",
    "    losses.append(loss)\n",
    "    Viewer.append_view_value(i,loss,0)\n",
    "    Viewer.append_view_value(i,loss_2,1)\n",
    "    Viewer.update_layout(title=f'Loss Plot- Progress: {i/29}')\n",
    "    time.sleep(1)"
   ]
  },
  {
   "cell_type": "code",
   "execution_count": null,
   "metadata": {},
   "outputs": [],
   "source": []
  }
 ],
 "metadata": {
  "kernelspec": {
   "display_name": ".graphnn",
   "language": "python",
   "name": "python3"
  },
  "language_info": {
   "codemirror_mode": {
    "name": "ipython",
    "version": 3
   },
   "file_extension": ".py",
   "mimetype": "text/x-python",
   "name": "python",
   "nbconvert_exporter": "python",
   "pygments_lexer": "ipython3",
   "version": "3.10.12"
  }
 },
 "nbformat": 4,
 "nbformat_minor": 2
}
